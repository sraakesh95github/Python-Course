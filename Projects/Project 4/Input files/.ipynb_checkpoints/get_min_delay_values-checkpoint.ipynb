{
 "cells": [
  {
   "cell_type": "code",
   "execution_count": 6,
   "metadata": {
    "scrolled": true
   },
   "outputs": [
    {
     "name": "stdout",
     "output_type": "stream",
     "text": [
      "2\n",
      ".param fan = 2\n",
      "\n",
      ".param fan = 2\n",
      "Xinv1 a b inv M=1\n",
      "Xinv1 b c inv M=fan**1\n",
      "Xinv1 c d inv M=fan**2\n",
      "Xinv1 d e inv M=fan**3\n",
      "Xinv1 e z inv M=fan**4\n"
     ]
    }
   ],
   "source": [
    "from operator import itemgetter\n",
    "\n",
    "test_list = [(1.0, 2.3, 1.9), (4.0, 5.9, 1.5), (0.4, 2.4, 8.9)]\n",
    "test = min(test_list, key=itemgetter(0))\n",
    "# ind = list(map(max, zip(*test_list)))[0]\n",
    "# test = list(map(max, zip(test_list[0])))\n",
    "\n",
    "def gen_replc_str(no_of_inv, fanout_val):\n",
    "    # write fanout\n",
    "    fanout_sp_stat = \".param fan = \" + str(fanout_val) + \"\\n\"\n",
    "\n",
    "    # Specify the number of invertors to be added\n",
    "    inv_stat = \"Xinv1 a b inv M=1\\n\"\n",
    "    last_index_val = 0\n",
    "    for i in range(no_of_inv - 2):\n",
    "        inv_stat = inv_stat + \"Xinv1 \" + chr(i + 98) + \" \" + chr(i + 99) + \" inv \" + \"M=fan**\" + str(i + 1) + \"\\n\"\n",
    "        last_index_val = i + 1\n",
    "    \n",
    "    if(no_of_inv > 1): \n",
    "        inv_stat = inv_stat + \"Xinv1 \" + chr(last_index_val + 98) + \" z inv \" + \"M=fan**\" + str(last_index_val + 1)\n",
    "\n",
    "    replacement_string = fanout_sp_stat + inv_stat\n",
    "    # print(replacement_string)\n",
    "\n",
    "    return replacement_string\n",
    "\n",
    "string2 = gen_replc_str(5, 2)\n",
    "print(string2)"
   ]
  },
  {
   "cell_type": "code",
   "execution_count": 2,
   "metadata": {},
   "outputs": [
    {
     "name": "stdout",
     "output_type": "stream",
     "text": [
      "[2, 3, 4, 5, 6, 7] [1, 3, 5, 7, 9, 11, 13, 15]\n"
     ]
    }
   ],
   "source": [
    "def generate_fan_inv_lst(fan_max, no_inv):\n",
    "    \n",
    "    # Generate fan list\n",
    "    fan_list = [i+2 for i in range(fan_max)]\n",
    "#     print(fan_list)\n",
    "    \n",
    "    # Generate no_inv list\n",
    "    no_inv_list = [i for i in range(no_inv * 2) if i%2 != 0]\n",
    "#     print(no_inv_list)\n",
    "    \n",
    "    return fan_list, no_inv_list\n",
    "    \n",
    "fan_lst, no_inv_lst = generate_fan_inv_lst(6, 8)\n",
    "print(fan_lst, no_inv_lst)"
   ]
  },
  {
   "cell_type": "code",
   "execution_count": null,
   "metadata": {},
   "outputs": [],
   "source": []
  }
 ],
 "metadata": {
  "kernelspec": {
   "display_name": "Python 3",
   "language": "python",
   "name": "python3"
  },
  "language_info": {
   "codemirror_mode": {
    "name": "ipython",
    "version": 3
   },
   "file_extension": ".py",
   "mimetype": "text/x-python",
   "name": "python",
   "nbconvert_exporter": "python",
   "pygments_lexer": "ipython3",
   "version": "3.7.6"
  }
 },
 "nbformat": 4,
 "nbformat_minor": 2
}
