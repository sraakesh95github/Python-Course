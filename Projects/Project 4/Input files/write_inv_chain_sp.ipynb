{
 "cells": [
  {
   "cell_type": "code",
   "execution_count": 2,
   "metadata": {},
   "outputs": [],
   "source": [
    "def gen_replc_str(fan_val, no_of_inv):\n",
    "    \n",
    "    # write fanout\n",
    "    fanout_sp_stat = \".param fan = \" + str(fan_val) + \"\\n\"\n",
    "\n",
    "    # Specify the number of invertors to be added\n",
    "    inv_stat = \"Xinv1 a b inv M=1\\n\"\n",
    "    last_index_val = 0\n",
    "    for i in range(no_of_inv - 2):\n",
    "        inv_stat = inv_stat + \"Xinv1 \" + chr(i + 98) + \" \" + chr(i + 99) + \" inv \" + \"M=fan**\" + str(i+1) + \"\\n\"\n",
    "        last_index_val = i + 1\n",
    "\n",
    "    inv_stat = inv_stat + \"Xinv1 \" + chr(last_index_val + 98) + \" z inv \" + \"M=fan**\" + str(last_index_val+1)\n",
    "\n",
    "    replacement_string = fanout_sp_stat + inv_stat\n",
    "    # print(replacement_string)\n",
    "    \n",
    "    return replacement_string\n"
   ]
  },
  {
   "cell_type": "code",
   "execution_count": 3,
   "metadata": {},
   "outputs": [
    {
     "name": "stdout",
     "output_type": "stream",
     "text": [
      "[2, 3, 4]\n",
      "Write file for fan: 2 & Inv count: 1\n",
      "Write file for fan: 2 & Inv count: 3\n",
      "Write file for fan: 2 & Inv count: 5\n",
      "Write file for fan: 2 & Inv count: 7\n",
      "Write file for fan: 2 & Inv count: 9\n",
      "Write file for fan: 3 & Inv count: 1\n",
      "Write file for fan: 3 & Inv count: 3\n",
      "Write file for fan: 3 & Inv count: 5\n",
      "Write file for fan: 3 & Inv count: 7\n",
      "Write file for fan: 3 & Inv count: 9\n",
      "Write file for fan: 4 & Inv count: 1\n",
      "Write file for fan: 4 & Inv count: 3\n",
      "Write file for fan: 4 & Inv count: 5\n",
      "Write file for fan: 4 & Inv count: 7\n",
      "Write file for fan: 4 & Inv count: 9\n"
     ]
    }
   ],
   "source": [
    "import re\n",
    "\n",
    "def create_sp_file(fan_list, inv_list):\n",
    "    \n",
    "    # Read the template file\n",
    "    f_r = open(\"InvChainTemp.sp\", \"r\")\n",
    "    template_str = f_r.read()\n",
    "    \n",
    "    # Replace the fan and number of inverters in the template\n",
    "    for i in fan_list:\n",
    "        for j in inv_list:\n",
    "        \n",
    "            # Create an hspice file and write the modified contents of fan and number of inverters\n",
    "            f_w = open(\"InvChain_\" + str(i) + \"_\" + str(j) + \".sp\", \"w+\")\n",
    "            write_str = re.sub(r'\\$.*\\$', gen_replc_str(i, j), template_str)\n",
    "            f_w.write(write_str)\n",
    "    \n",
    "            print(\"Write file for fan: \" + str(i) + \" & Inv count: \" + str(j))\n",
    "    f_r.close()\n",
    "    f_w.close()\n",
    "    \n",
    "def generate_fan_inv_lst(fan_max, no_inv):\n",
    "    # Generate fan list\n",
    "    fan_list = [i + 2 for i in range(fan_max)]\n",
    "    print(fan_list)\n",
    "\n",
    "    # Generate no_inv list\n",
    "    no_inv_list = [i for i in range(no_inv * 2) if i % 2 != 0]\n",
    "    # print(no_inv_list)\n",
    "    return fan_list, no_inv_list\n",
    "    \n",
    "fan_list, no_inv_list = generate_fan_inv_lst(3, 5) \n",
    "    \n",
    "create_sp_file(fan_list, no_inv_list)"
   ]
  },
  {
   "cell_type": "code",
   "execution_count": 24,
   "metadata": {},
   "outputs": [
    {
     "name": "stdout",
     "output_type": "stream",
     "text": [
      "Lab 1 Problem 1A\n",
      "\n",
      "* Bring in the library ... \n",
      ".lib 'cmoslibrary.lib' nominal\n",
      "\n",
      "* My VCC is \n",
      ".param pvcc = 3\n",
      "\n",
      "* Sizing Variables\n",
      ".param alpha = 1.7\n",
      "\n",
      "* Set Power and Ground as Global\n",
      ".global vcc! gnd!\n",
      "\n",
      ".subckt inv A Z \n",
      "  m1 Z A gnd! gnd! nmos w=1.4u l=0.35u AD=0.7p \n",
      "  m2 Z A vcc! vcc! pmos w=(1.4u*alpha) l=0.35u AD=0.7p*alpha  \n",
      ".ends \n",
      "\n",
      "Cload z gnd! 5pF\n",
      "\n",
      "Vin a gnd! 0V PWL 0 0NS 1NS 3 20NS 3\n",
      "\n",
      "* Power Supplies\n",
      "Vgnd gnd! 0 DC = 0\n",
      "Vvcc vcc! 0 DC = 3V\n",
      "\n",
      "* Analysis\n",
      ".tran 1NS 40NS\n",
      ".print tran v(a) v(z)\n",
      "\n",
      ".OPTION MEASFORM=3\n",
      "\n",
      ".OPTION POST\n",
      ".TEMP 25 \n",
      "\n",
      ".measure TRAN tphl_inv  TRIG v(Xinv1.a) VAL = 1.5 RISE = 1 TARG v(z) VAL=1.5 FALL = 1\n",
      "\n",
      ".param fan = 2\n",
      "Xinv1 a b inv M=1\n",
      "Xinv1 b c inv M=fan**1\n",
      "Xinv1 c d inv M=fan**2\n",
      "Xinv1 d e inv M=fan**3\n",
      "Xinv1 e f inv M=fan**4\n",
      "Xinv1 f g inv M=fan**5\n",
      "Xinv1 g h inv M=fan**6\n",
      "Xinv1 h i inv M=fan**7\n",
      "Xinv1 i j inv M=fan**8\n",
      "Xinv1 j k inv M=fan**9\n",
      "Xinv1 k z inv M=fan**10\n",
      ".end\n"
     ]
    }
   ],
   "source": []
  },
  {
   "cell_type": "code",
   "execution_count": null,
   "metadata": {},
   "outputs": [],
   "source": [
    "min_delay_list = [(21,23,34), (34,45,56), (2,34,64)]\n",
    "\n",
    "tup_least_delay = min(min_delay_list, key=itemgetter(0))\n",
    "print(\"Least delay: \" + str(tup_least_delay[0]))\n",
    "print(\"Fan for least delay: \" + str(tup_least_delay[1]))\n",
    "print(\"#Invertors for least delay: \" + str(tup_least_delay[2]))"
   ]
  },
  {
   "cell_type": "code",
   "execution_count": null,
   "metadata": {},
   "outputs": [],
   "source": []
  }
 ],
 "metadata": {
  "kernelspec": {
   "display_name": "Python 3",
   "language": "python",
   "name": "python3"
  },
  "language_info": {
   "codemirror_mode": {
    "name": "ipython",
    "version": 3
   },
   "file_extension": ".py",
   "mimetype": "text/x-python",
   "name": "python",
   "nbconvert_exporter": "python",
   "pygments_lexer": "ipython3",
   "version": "3.7.6"
  }
 },
 "nbformat": 4,
 "nbformat_minor": 2
}
