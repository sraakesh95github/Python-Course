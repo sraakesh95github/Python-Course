{
 "cells": [
  {
   "cell_type": "code",
   "execution_count": null,
   "metadata": {},
   "outputs": [
    {
     "name": "stdout",
     "output_type": "stream",
     "text": [
      "2\n",
      "[1]\n",
      "[1, 2]\n",
      "[1, 2, 3]\n"
     ]
    }
   ],
   "source": [
    "#Create a list of prime numbers\n",
    "prime_number_list = [2,3]\n",
    "import math\n",
    "\n",
    "MAX_LIMIT = 20\n",
    "\n",
    "#initialize iterator\n",
    "i = 4\n",
    "\n",
    "#Iteration to check all the numbers for being a prime number or not\n",
    "while i < MAX_LIMIT:\n",
    "    temp = math.sqrt(i)\n",
    "    print(i)\n",
    "    for j in prime_number_list:\n",
    "        if j <= temp :\n",
    "            if i%j == 0: break\n",
    "        else : prime_number_list.append(i)\n",
    "        print(prime_number_list)\n",
    "    i+=1\n",
    "print(prime_number_list)"
   ]
  },
  {
   "cell_type": "code",
   "execution_count": null,
   "metadata": {},
   "outputs": [],
   "source": [
    "a = [1,2,3,4]\n",
    "print(a)\n",
    "for i was a:\n",
    "    print(i)"
   ]
  },
  {
   "cell_type": "code",
   "execution_count": null,
   "metadata": {},
   "outputs": [],
   "source": []
  },
  {
   "cell_type": "code",
   "execution_count": null,
   "metadata": {},
   "outputs": [],
   "source": []
  }
 ],
 "metadata": {
  "kernelspec": {
   "display_name": "Python 3",
   "language": "python",
   "name": "python3"
  },
  "language_info": {
   "codemirror_mode": {
    "name": "ipython",
    "version": 3
   },
   "file_extension": ".py",
   "mimetype": "text/x-python",
   "name": "python",
   "nbconvert_exporter": "python",
   "pygments_lexer": "ipython3",
   "version": "3.7.6"
  }
 },
 "nbformat": 4,
 "nbformat_minor": 2
}
