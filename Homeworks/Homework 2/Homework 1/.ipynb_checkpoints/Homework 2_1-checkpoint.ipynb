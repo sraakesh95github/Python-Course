{
 "cells": [
  {
   "cell_type": "code",
   "execution_count": 2,
   "metadata": {},
   "outputs": [
    {
     "name": "stdout",
     "output_type": "stream",
     "text": [
      "[3. 3. 3. 3.]\n"
     ]
    }
   ],
   "source": [
    "from numpy import array\n",
    "a=array([1,2,3,4],int)\n",
    "b=array([2,4,6,8],int)\n",
    "print(b/a+1)"
   ]
  },
  {
   "cell_type": "code",
   "execution_count": 3,
   "metadata": {},
   "outputs": [
    {
     "name": "stdout",
     "output_type": "stream",
     "text": [
      "[1.         1.33333333 1.5        1.6       ]\n"
     ]
    }
   ],
   "source": [
    "print(b/(a+1))"
   ]
  },
  {
   "cell_type": "code",
   "execution_count": 10,
   "metadata": {},
   "outputs": [
    {
     "name": "stdout",
     "output_type": "stream",
     "text": [
      "-1\n"
     ]
    }
   ],
   "source": [
    "#Program to print the prime numbers from 2 to 10000\n",
    "def addition(x,y):\n",
    "    print(x+y)\n",
    "    \n",
    "def subtraction(x,y):\n",
    "    print(x-y)\n",
    "    \n",
    "subtraction(2,3)"
   ]
  },
  {
   "cell_type": "code",
   "execution_count": null,
   "metadata": {},
   "outputs": [],
   "source": [
    "#Create a list of prime numbers\n",
    "prime_number_list = [2]\n",
    "import math\n",
    "\n",
    "MAX_LIMIT = 100\n",
    "\n",
    "#initialize iterator\n",
    "i=3;\n",
    "\n",
    "#Iteration to check all the numbers for being a prime number or not\n",
    "while i < MAX_LIMIT:\n",
    "    #No even number is a prime number\n",
    "    if(i%2 != 0):\n",
    "        temp = int(math.sqrt(i))\n",
    "        j=3\n",
    "        if(j>temp):\n",
    "            prime_number_list.append(i)\n",
    "        else:\n",
    "            while j <= temp:\n",
    "                if(i%j != 0):\n",
    "                    prime_number_list.append(i)\n",
    "                j+=1\n",
    "    i+=1\n",
    "print(prime_number_list)"
   ]
  },
  {
   "cell_type": "code",
   "execution_count": null,
   "metadata": {},
   "outputs": [],
   "source": [
    "lists = [1,2,3,4]\n",
    "lists.append(20)\n",
    "print(lists)"
   ]
  },
  {
   "cell_type": "code",
   "execution_count": null,
   "metadata": {},
   "outputs": [],
   "source": []
  }
 ],
 "metadata": {
  "kernelspec": {
   "display_name": "Python 3",
   "language": "python",
   "name": "python3"
  },
  "language_info": {
   "codemirror_mode": {
    "name": "ipython",
    "version": 3
   },
   "file_extension": ".py",
   "mimetype": "text/x-python",
   "name": "python",
   "nbconvert_exporter": "python",
   "pygments_lexer": "ipython3",
   "version": "3.7.6"
  }
 },
 "nbformat": 4,
 "nbformat_minor": 2
}
