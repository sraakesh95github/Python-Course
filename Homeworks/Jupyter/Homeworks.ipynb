{
 "cells": [
  {
   "cell_type": "markdown",
   "metadata": {},
   "source": [
    "# Homework 2 Integration Quad"
   ]
  },
  {
   "cell_type": "code",
   "execution_count": 1,
   "metadata": {},
   "outputs": [
    {
     "data": {
      "text/plain": [
       "Text(0.5, 1.0, 'Time period vs Amplitude plot for Anharmonic oscillator')"
      ]
     },
     "execution_count": 1,
     "metadata": {},
     "output_type": "execute_result"
    },
    {
     "data": {
      "image/png": "[encoded data removed]",
      "text/plain": [
       "<Figure size 432x288 with 1 Axes>"
      ]
     },
     "metadata": {
      "needs_background": "light"
     },
     "output_type": "display_data"
    }
   ],
   "source": [
    "#Program to find the Time period of an anharmonic oscillator with the following given params\n",
    "# m = mass of the pendulum\n",
    "\n",
    "import numpy as np\n",
    "import matplotlib.pyplot as plt\n",
    "from scipy.integrate import quad\n",
    "\n",
    "#The upper limit for the integration\n",
    "m = 1\n",
    "\n",
    "#Declaring the variables to plot\n",
    "integral_values = []\n",
    "x_values = []\n",
    "\n",
    "#Function definition for the potential of the mass at a height x\n",
    "def func1(x):\n",
    "    return (x**6 + (2*(x**2)))\n",
    "\n",
    "#Multiplicative factor for the integral\n",
    "const1 = (8*m)**0.5\n",
    "\n",
    "# Function to be integrated to find the time period of the oscillating pendulum\n",
    "def func_to_integrate(x,a):\n",
    "    return (1/((a - (func1(x)))**0.5))\n",
    "\n",
    "#Values to iterate through to find the integral and plot\n",
    "iterate_values = np.arange(0.1,2,0.01)\n",
    "\n",
    "#convert the numpy ndarray to list\n",
    "list1 = iterate_values.tolist()\n",
    "\n",
    "#functionality to find the integral\n",
    "for a_val in list1:\n",
    "    a_func_value = func1(a_val)\n",
    "    temp, error = quad(func_to_integrate, 0, a_val, args = (a_func_value))\n",
    "    integral_values.append(temp*const1)\n",
    "    x_values.append(a_val)\n",
    "    \n",
    "#Plot the integral function\n",
    "plt.figure(\"Integration\")\n",
    "plt.plot(x_values, integral_values, label = \"Function of time period for an Anharmonic pendulum\")\n",
    "plt.xlabel(\"Amplitude\")\n",
    "plt.ylabel(\"Time Period\")\n",
    "plt.title('Time period vs Amplitude plot for Anharmonic oscillator')"
   ]
  },
  {
   "cell_type": "markdown",
   "metadata": {},
   "source": [
    "# HW2 (Number formatting)"
   ]
  },
  {
   "cell_type": "code",
   "execution_count": 4,
   "metadata": {},
   "outputs": [
    {
     "name": "stdout",
     "output_type": "stream",
     "text": [
      "5.670e-08\n"
     ]
    }
   ],
   "source": [
    "import numpy as np\n",
    "from scipy.integrate import quad\n",
    "import warnings\n",
    "\n",
    "warnings.filterwarnings(\"ignore\")\n",
    "#Define the constants\n",
    "Kb = 1.380649e-23\n",
    "h_bar = 1.054571e-34\n",
    "c = 2.99792e8\n",
    "const1 = (Kb**4/(4*(np.pi**2)*(c**2)*(h_bar**3)))\n",
    "\n",
    "#Function to be integrated to get the Stefan Boltzmann constant\n",
    "def integral_func(z):\n",
    "    return ((((z/(1-z))**3)/(np.exp((z/(1-z)))-1))*((1/((1-z)**2))))\n",
    "\n",
    "#Integral function\n",
    "res, err = quad(integral_func,0,1)\n",
    "\n",
    "#Print the formated Stefan Boltzmann constant\n",
    "y = const1 * res\n",
    "print(format(y, '#.4g'))"
   ]
  },
  {
   "cell_type": "markdown",
   "metadata": {},
   "source": [
    "# HW 3 (Netlist)"
   ]
  },
  {
   "cell_type": "code",
   "execution_count": 2,
   "metadata": {},
   "outputs": [
    {
     "name": "stdout",
     "output_type": "stream",
     "text": [
      "enter netlist text file name: Netlist_hw3\n",
      "[5.   3.25 2.75 2.75 2.5  2.5  2.5  1.75 2.25 2.25]\n"
     ]
    }
   ],
   "source": [
    "############################################################\n",
    "# Created on Fri Aug 24 13:36:53 2018                      #\n",
    "#                                                          #\n",
    "# @author: olhartin@asu.edu; updates by sdm                #\n",
    "#                                                          #\n",
    "# Program to solve resister network with a voltage source  #\n",
    "############################################################\n",
    "\n",
    "import numpy as np                     # needed for arrays\n",
    "from numpy.linalg import solve         # needed for matrices\n",
    "from read_netlist import read_netlist  # supplied function to read the netlist\n",
    "import comp_constants as COMP          # needed for the common constants\n",
    "\n",
    "# this is the list structure that we'll use to hold components:\n",
    "# [ Type, Name, i, j, Value ] ; set up an index for each component's property\n",
    "\n",
    "############################################################\n",
    "# How large a matrix is needed for netlist? This could     #\n",
    "# have been calculated at the same time as the netlist was #\n",
    "# read in but we'll do it here to handle special cases     #\n",
    "############################################################\n",
    "\n",
    "def ranknetlist(netlist):              # pass in the netlist\n",
    "\n",
    "    ### EXTRA STUFF HERE!\n",
    "    nodes = len(netlist)\n",
    "    current_max = 0\n",
    "    voltage_source_counts = 0\n",
    "    for i in netlist:\n",
    "        temp = max(i[COMP.I],i[COMP.J])\n",
    "        if(temp > current_max):\n",
    "            current_max = temp\n",
    "        if(i[COMP.TYPE] == COMP.VS):\n",
    "            voltage_source_counts += 1\n",
    "    max_node = current_max + voltage_source_counts\n",
    "    return current_max,max_node\n",
    "\n",
    "############################################################\n",
    "# Read the netlist parameters     #\n",
    "# Get the number of rows to be created for the netlist stamping excluding the node 0 considered as ground by default\n",
    "# Initialize the following matrices :\n",
    "# y_add : The stamping matrix\n",
    "# currents : The combination of independent voltage and current source values as a vector\n",
    "# voltage : The resultant value after solving the y_add matrix and currents vector\n",
    "############################################################\n",
    "\n",
    "netlist = read_netlist()\n",
    "\n",
    "admittance_node_count, max_nodes = ranknetlist(netlist)\n",
    "\n",
    "currents = np.zeros((max_nodes), dtype = np.float)\n",
    "voltages = np.zeros((max_nodes), dtype = np.float)\n",
    "y_add = np.zeros((max_nodes,max_nodes), dtype = np.float)\n",
    "\n",
    "############################################################\n",
    "# Function to stamp the components into the netlist        #\n",
    "############################################################\n",
    "\n",
    "def stamper(y_add,netlist,currents,voltages,num_nodes): # pass in the netlist and matrices\n",
    "    # y_add is the matrix of admittances\n",
    "    # netlist is the list of lists to analyze\n",
    "    # currents is the vector of currents\n",
    "    # voltages is the vector of voltages\n",
    "    # num_nodes is the number of rows in the admittance matrix allocated for the admittances\n",
    "    voltage_counter = 0                     #This is a counter variable and not a constant\n",
    "    for comp in netlist:                            # for each component...\n",
    "        #print(' comp ', comp)                       # which one are we handling...\n",
    "\n",
    "        # extract the i,j and fill in the matrix...\n",
    "        # subtract 1 since node 0 is GND and it isn't included in the matrix\n",
    "\n",
    "        #voltage_counter = -1    #This counter is used to index the additional rows for the independent voltage source and the Current controlled current source\n",
    "\n",
    "        #Stamping of resistor values\n",
    "        if (comp[COMP.TYPE] == COMP.R ):           # a resistor\n",
    "            i = comp[COMP.I] - 1\n",
    "            j = comp[COMP.J] - 1\n",
    "            if (i >= 0):                            # add on the diagonal\n",
    "                y_add[i,i] += 1.0/comp[COMP.VAL]\n",
    "            if (j >=0):\n",
    "                 y_add[j, j] += 1.0 / comp[COMP.VAL]\n",
    "\n",
    "            if (j>=0 and i>=0):\n",
    "                y_add[i, j] -= 1.0 / comp[COMP.VAL]\n",
    "                y_add[j, i] -= 1.0 / comp[COMP.VAL]\n",
    "\n",
    "        #Stamping of current source values into the current source matrix\n",
    "        if(comp[COMP.TYPE] == COMP.IS):\n",
    "            i = comp[COMP.I] - 1\n",
    "            j = comp[COMP.J] - 1\n",
    "            if (i >= 0):\n",
    "                currents[i] -= comp[COMP.VAL]\n",
    "            if (j >= 0):\n",
    "                currents[j] += comp[COMP.VAL]\n",
    "\n",
    "        #Stamping of the voltage source values into the current matrix\n",
    "        if(comp[COMP.TYPE] == COMP.VS):\n",
    "            index = num_nodes + voltage_counter\n",
    "            i = comp[COMP.I] - 1\n",
    "            j = comp[COMP.J] - 1\n",
    "            voltage_counter += 1\n",
    "            currents[index] = comp[COMP.VAL]\n",
    "            if(i >= 0):\n",
    "                y_add[index][i] = y_add[i][index] = 1\n",
    "            if (j >= 0):\n",
    "                y_add[index][j] = y_add[j][index] = -1\n",
    "    return num_nodes  # need to update with new value\n",
    "\n",
    "############################################################\n",
    "# Start the main program now...                            #\n",
    "############################################################\n",
    "temp_num_nodes = stamper(y_add,netlist,currents,voltages,admittance_node_count)\n",
    "\n",
    "#Perform an error exception to catch the singular matrix errors\n",
    "try:\n",
    "    voltages = solve(y_add,currents)\n",
    "    print(voltages)\n",
    "except Exception as e:\n",
    "    print(\"The folllowing exception was received:\")\n",
    "    print(e)\n"
   ]
  },
  {
   "cell_type": "code",
   "execution_count": null,
   "metadata": {},
   "outputs": [],
   "source": []
  }
 ],
 "metadata": {
  "kernelspec": {
   "display_name": "Python 3",
   "language": "python",
   "name": "python3"
  },
  "language_info": {
   "codemirror_mode": {
    "name": "ipython",
    "version": 3
   },
   "file_extension": ".py",
   "mimetype": "text/x-python",
   "name": "python",
   "nbconvert_exporter": "python",
   "pygments_lexer": "ipython3",
   "version": "3.7.6"
  }
 },
 "nbformat": 4,
 "nbformat_minor": 2
}
