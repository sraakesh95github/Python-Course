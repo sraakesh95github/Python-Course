{
 "cells": [
  {
   "cell_type": "markdown",
   "metadata": {},
   "source": [
    "# Ball drop problem"
   ]
  },
  {
   "cell_type": "code",
   "execution_count": 44,
   "metadata": {},
   "outputs": [
    {
     "name": "stdout",
     "output_type": "stream",
     "text": [
      "Enter height : 10\n",
      "Enter initial upward velocity : -10\n",
      "time to hit ground 0.74 seconds\n"
     ]
    }
   ],
   "source": [
    "import sys\n",
    "import math\n",
    "# Program to calculate the time taken for a ball to drop from a height for a given initial velocity\n",
    "\n",
    "#Set a constant value for acceleration due to gravity\n",
    "g = 9.81;\n",
    "\n",
    "#Get the height from which the ball is dropped\n",
    "s = int(input(\"Enter height : \"));\n",
    "\n",
    "#Check for the height range\n",
    "if s<10 or s>1000 :\n",
    "    print(\"Bad height specified. Please try again.\");\n",
    "    sys.exit()\n",
    "\n",
    "#Get the intial velocity with which the ball is thrown / dropped\n",
    "u = float(input(\"Enter initial upward velocity : \"));\n",
    "#Check for the initial velocity range\n",
    "if u<-20 or u>20 :\n",
    "    print(\"Initial velocity too large ! Slow down !\");\n",
    "    sys.exit()\n",
    "    \n",
    "    \n",
    "#Calculate the time taken for the ball to drop to the groud Negative initial velocity is given as the ball is moving downward\n",
    "t = ((math.sqrt((u*u)+(2*g*s)) + u) / g);\n",
    "\n",
    "#Print time taken\n",
    "print(\"time to hit ground \" + \"{:.2f}\".format(t) + \" seconds\");\n",
    "\n"
   ]
  },
  {
   "cell_type": "code",
   "execution_count": null,
   "metadata": {},
   "outputs": [],
   "source": []
  }
 ],
 "metadata": {
  "kernelspec": {
   "display_name": "Python 3",
   "language": "python",
   "name": "python3"
  },
  "language_info": {
   "codemirror_mode": {
    "name": "ipython",
    "version": 3
   },
   "file_extension": ".py",
   "mimetype": "text/x-python",
   "name": "python",
   "nbconvert_exporter": "python",
   "pygments_lexer": "ipython3",
   "version": "3.7.6"
  }
 },
 "nbformat": 4,
 "nbformat_minor": 2
}
