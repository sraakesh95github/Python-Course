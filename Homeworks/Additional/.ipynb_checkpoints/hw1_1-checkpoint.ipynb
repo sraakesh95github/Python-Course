{
 "cells": [
  {
   "cell_type": "markdown",
   "metadata": {},
   "source": [
    "# Ball drop problem"
   ]
  },
  {
   "cell_type": "code",
   "execution_count": 42,
   "metadata": {},
   "outputs": [
    {
     "name": "stdout",
     "output_type": "stream",
     "text": [
      "Enter height : 5\n"
     ]
    },
    {
     "ename": "TypeError",
     "evalue": "'<' not supported between instances of 'str' and 'int'",
     "output_type": "error",
     "traceback": [
      "\u001b[1;31m---------------------------------------------------------------------------\u001b[0m",
      "\u001b[1;31mTypeError\u001b[0m                                 Traceback (most recent call last)",
      "\u001b[1;32m<ipython-input-42-f0b3da4aa3cc>\u001b[0m in \u001b[0;36m<module>\u001b[1;34m\u001b[0m\n\u001b[0;32m     10\u001b[0m \u001b[1;33m\u001b[0m\u001b[0m\n\u001b[0;32m     11\u001b[0m \u001b[1;31m#Check for the height range\u001b[0m\u001b[1;33m\u001b[0m\u001b[1;33m\u001b[0m\u001b[1;33m\u001b[0m\u001b[0m\n\u001b[1;32m---> 12\u001b[1;33m \u001b[1;32mif\u001b[0m \u001b[0ms\u001b[0m\u001b[1;33m<\u001b[0m\u001b[1;36m10\u001b[0m \u001b[1;32mand\u001b[0m \u001b[0ms\u001b[0m\u001b[1;33m>\u001b[0m\u001b[1;36m1000\u001b[0m \u001b[1;33m:\u001b[0m\u001b[1;33m\u001b[0m\u001b[1;33m\u001b[0m\u001b[0m\n\u001b[0m\u001b[0;32m     13\u001b[0m     \u001b[0mprint\u001b[0m\u001b[1;33m(\u001b[0m\u001b[1;34m\"Entered...\"\u001b[0m\u001b[1;33m)\u001b[0m\u001b[1;33m;\u001b[0m\u001b[1;33m\u001b[0m\u001b[1;33m\u001b[0m\u001b[0m\n\u001b[0;32m     14\u001b[0m     \u001b[1;31m#sys.exit(\"Bad height specified. Please try again.\")\u001b[0m\u001b[1;33m\u001b[0m\u001b[1;33m\u001b[0m\u001b[1;33m\u001b[0m\u001b[0m\n",
      "\u001b[1;31mTypeError\u001b[0m: '<' not supported between instances of 'str' and 'int'"
     ]
    }
   ],
   "source": [
    "import sys\n",
    "import math\n",
    "# Program to calculate the time taken for a ball to drop from a height for a given initial velocity\n",
    "\n",
    "#Set a constant value for acceleration due to gravity\n",
    "g = 9.81;\n",
    "\n",
    "#Get the height from which the ball is dropped\n",
    "s = int(input(\"Enter height : \"));\n",
    "\n",
    "#Check for the height range\n",
    "if s<10 or s>1000 :\n",
    "    sys.exit(\"Bad height specified. Please try again.\")\n",
    "\n",
    "#Get the intial velocity with which the ball is thrown / dropped\n",
    "u = float(input(\"Enter initial upward velocity : \"));\n",
    "#Check for the initial velocity range\n",
    "if u<-20 or u>20 :\n",
    "    sys.exit(\"Initial velocity too large ! Slow down !\")\n",
    "    \n",
    "    \n",
    "#Calculate the time taken for the ball to drop to the groud Negative initial velocity is given as the ball is moving downward\n",
    "t = ((math.sqrt((u*u)+(2*g*s)) + u) / g);\n",
    "\n",
    "#Print time taken\n",
    "print(\"time to hit ground \" + \"{:.2f}\".format(t) + \" seconds\");\n",
    "\n"
   ]
  },
  {
   "cell_type": "code",
   "execution_count": null,
   "metadata": {},
   "outputs": [],
   "source": []
  },
  {
   "cell_type": "code",
   "execution_count": null,
   "metadata": {},
   "outputs": [],
   "source": []
  }
 ],
 "metadata": {
  "kernelspec": {
   "display_name": "Python 3",
   "language": "python",
   "name": "python3"
  },
  "language_info": {
   "codemirror_mode": {
    "name": "ipython",
    "version": 3
   },
   "file_extension": ".py",
   "mimetype": "text/x-python",
   "name": "python",
   "nbconvert_exporter": "python",
   "pygments_lexer": "ipython3",
   "version": "3.7.6"
  }
 },
 "nbformat": 4,
 "nbformat_minor": 2
}
